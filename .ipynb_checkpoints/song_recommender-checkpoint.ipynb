{
 "cells": [
  {
   "cell_type": "markdown",
   "metadata": {
    "colab_type": "text",
    "id": "2zbQvAYZXwHr"
   },
   "source": [
    "# Imports"
   ]
  },
  {
   "cell_type": "code",
   "execution_count": 93,
   "metadata": {
    "colab": {
     "autoexec": {
      "startup": false,
      "wait_interval": 0
     }
    },
    "colab_type": "code",
    "id": "0YER_I0LXvq1"
   },
   "outputs": [],
   "source": [
    "#Python Imports\n",
    "import numpy as np\n",
    "import pandas as pd\n",
    "import json \n",
    "import math\n",
    "import matplotlib.pyplot as plt\n",
    "%matplotlib inline\n",
    "from collections import Counter\n",
    "import random\n",
    "import warnings\n",
    "warnings.filterwarnings('ignore')\n",
    "\n",
    "#Machine Learning Libraries Imports\n",
    "from sklearn.model_selection import train_test_split\n",
    "from sklearn.neighbors import KNeighborsClassifier\n",
    "from sklearn.linear_model import LogisticRegression\n",
    "from sklearn.metrics import accuracy_score\n",
    "from sklearn.model_selection import cross_val_score\n",
    "from sklearn.metrics import  classification_report, confusion_matrix, auc, roc_curve\n",
    "from sklearn.datasets.samples_generator import make_blobs\n",
    "from sklearn.neural_network import MLPClassifier"
   ]
  },
  {
   "cell_type": "code",
   "execution_count": 94,
   "metadata": {
    "colab": {
     "autoexec": {
      "startup": false,
      "wait_interval": 0
     }
    },
    "colab_type": "code",
    "id": "ZLQSGrNBX4A-"
   },
   "outputs": [],
   "source": [
    "%run \"model.ipynb\""
   ]
  },
  {
   "cell_type": "code",
   "execution_count": 95,
   "metadata": {
    "colab": {
     "autoexec": {
      "startup": false,
      "wait_interval": 0
     }
    },
    "colab_type": "code",
    "id": "mJG9N5KMXjW1"
   },
   "outputs": [
    {
     "name": "stdout",
     "output_type": "stream",
     "text": [
      "Soundtrack Hip-Hop\n"
     ]
    }
   ],
   "source": [
    "#Preprocess Data\n",
    "data_set, features, labels_dict = data_pre_processing()\n",
    "labels = [[v] for k,v in labels_dict.items()]\n",
    "labels = np.array(labels)\n",
    "\n",
    "# Number of classes for the dataset\n",
    "n_classes = np.unique(labels).shape[0]\n",
    "\n",
    "#Create Test-Train Splits\n",
    "indices = list(range(labels.shape[0]))\n",
    "X_train, X_test, y_train, y_test, indices_train, indices_test = train_test_split(features, labels, indices, test_size=0.3, random_state=42)\n",
    "\n",
    "#Create a track dictionary for predictions\n",
    "track_dict = {}\n",
    "t_id, art_name, alb_name, track_titles, genres = [], [], [], [], []\n",
    "\n",
    "for index in indices_test:\n",
    "    t_id.append(data_set.loc[index][0])\n",
    "    art_name.append(data_set.loc[index][9])\n",
    "    alb_name.append(data_set.loc[index][10])\n",
    "    track_titles.append(data_set.loc[index][12])\n",
    "    genres.append(data_set.loc[index][11])\n",
    "    \n",
    "track_dict['track_id'] = t_id\n",
    "track_dict['artist_name'] = art_name\n",
    "track_dict['album_name'] = alb_name\n",
    "track_dict['track_title'] = track_titles\n",
    "track_dict['genres'] = genres"
   ]
  },
  {
   "cell_type": "markdown",
   "metadata": {},
   "source": [
    "# kNN Model"
   ]
  },
  {
   "cell_type": "code",
   "execution_count": 96,
   "metadata": {
    "colab": {
     "autoexec": {
      "startup": false,
      "wait_interval": 0
     },
     "base_uri": "https://localhost:8080/",
     "height": 248
    },
    "colab_type": "code",
    "executionInfo": {
     "elapsed": 5114,
     "status": "error",
     "timestamp": 1530581351715,
     "user": {
      "displayName": "Atharva Tendle",
      "photoUrl": "//lh4.googleusercontent.com/-CuOElH4l2Mo/AAAAAAAAAAI/AAAAAAAADsg/6U2IeubVQSI/s50-c-k-no/photo.jpg",
      "userId": "112330725333002540150"
     },
     "user_tz": 300
    },
    "id": "0AJay_rA6UXQ",
    "outputId": "6877879e-dcd2-4a8f-c943-b71e3d585dcf"
   },
   "outputs": [
    {
     "name": "stdout",
     "output_type": "stream",
     "text": [
      "Accuracy for k-NN:  0.6270627062706271\n"
     ]
    }
   ],
   "source": [
    "# determining best k\n",
    "cross_val_list = []\n",
    "myList = list(range(1,50))\n",
    "neighbors = myList\n",
    "\n",
    "for k in neighbors:\n",
    "    kNN = KNeighborsClassifier(n_neighbors = k)\n",
    "    scores = cross_val_score(kNN, X_train, np.ravel(y_train), cv=10, scoring='accuracy')\n",
    "    cross_val_list.append(scores.mean())\n",
    "\n",
    "mean_squared_error_kNN = [1 - x for x in cross_val_list]\n",
    "optimal_k = neighbors[mean_squared_error_kNN.index(min(mean_squared_error_kNN))]\n",
    "\n",
    "#kNN on optimal number of neighbors\n",
    "kNN = KNeighborsClassifier(n_neighbors = optimal_k)\n",
    "kNN.fit(X_train, np.ravel(y_train, order ='C'))\n",
    "predicted_kNN = kNN.predict(X_test)\n",
    "\n",
    "#Confusion Matrix and other Statistics\n",
    "confusion_kNN = confusion_matrix(np.ravel(y_test), predicted_kNN)\n",
    "acc_scr_kNN = accuracy_score(y_test, predicted_kNN)\n",
    "class_report_kNN = classification_report(y_test,predicted_kNN)\n",
    "print(\"Accuracy for k-NN: \", acc_scr_kNN)"
   ]
  },
  {
   "cell_type": "markdown",
   "metadata": {},
   "source": [
    "# Logistic Regression Model"
   ]
  },
  {
   "cell_type": "code",
   "execution_count": 97,
   "metadata": {
    "colab": {
     "autoexec": {
      "startup": false,
      "wait_interval": 0
     },
     "base_uri": "https://localhost:8080/",
     "height": 54
    },
    "colab_type": "code",
    "executionInfo": {
     "elapsed": 417,
     "status": "ok",
     "timestamp": 1530581291921,
     "user": {
      "displayName": "Atharva Tendle",
      "photoUrl": "//lh4.googleusercontent.com/-CuOElH4l2Mo/AAAAAAAAAAI/AAAAAAAADsg/6U2IeubVQSI/s50-c-k-no/photo.jpg",
      "userId": "112330725333002540150"
     },
     "user_tz": 300
    },
    "id": "Ue4WEqM46cu4",
    "outputId": "a9d99fba-8127-43bf-b5bb-0f289da75d48"
   },
   "outputs": [
    {
     "name": "stdout",
     "output_type": "stream",
     "text": [
      "[LibLinear]Accuracy for Logistic Regression:  0.6288398070576289\n"
     ]
    }
   ],
   "source": [
    "logistic = LogisticRegression(penalty='l1', fit_intercept=True, solver='liblinear', verbose=2, random_state=10)\n",
    "logistic.fit(X_train, np.ravel(y_train))\n",
    "predicted_LR = logistic.predict(X_test)\n",
    "\n",
    "#Confusion Matrix and other Statistics\n",
    "acc_scr_LR =  accuracy_score(y_test, predicted_LR)\n",
    "confusion_LR = confusion_matrix(y_test, predicted_LR)\n",
    "class_report_LR = classification_report(y_test,predicted_LR)\n",
    "print(\"Accuracy for Logistic Regression: \", acc_scr_LR)"
   ]
  },
  {
   "cell_type": "markdown",
   "metadata": {},
   "source": [
    "# Multi Layer Perceptron Model"
   ]
  },
  {
   "cell_type": "code",
   "execution_count": 98,
   "metadata": {
    "colab": {
     "autoexec": {
      "startup": false,
      "wait_interval": 0
     },
     "base_uri": "https://localhost:8080/",
     "height": 203
    },
    "colab_type": "code",
    "executionInfo": {
     "elapsed": 1284,
     "status": "ok",
     "timestamp": 1530581276366,
     "user": {
      "displayName": "Atharva Tendle",
      "photoUrl": "//lh4.googleusercontent.com/-CuOElH4l2Mo/AAAAAAAAAAI/AAAAAAAADsg/6U2IeubVQSI/s50-c-k-no/photo.jpg",
      "userId": "112330725333002540150"
     },
     "user_tz": 300
    },
    "id": "HiFo5ZMS6Xo-",
    "outputId": "cc49f4ec-e2a9-497b-e28b-7287b2a26250"
   },
   "outputs": [
    {
     "name": "stdout",
     "output_type": "stream",
     "text": [
      "Accuracy for Multi Layer Perceptron Classifier:  0.6245239908606245\n"
     ]
    }
   ],
   "source": [
    "mlp = MLPClassifier(hidden_layer_sizes=(5,), learning_rate='adaptive',\n",
    "       learning_rate_init=0.001,max_iter=200, solver = 'adam', alpha=0.00001)\n",
    "mlp.fit(X_train,np.ravel(y_train))\n",
    "predicted_MLP = mlp.predict(X_test)\n",
    "\n",
    "#Confusion Matrix and other Statistics\n",
    "confusion_MLP = confusion_matrix(y_test,predicted_MLP)\n",
    "acc_scr_MLP = accuracy_score(y_test, predicted_MLP)\n",
    "class_report_MLP = classification_report(y_test,predicted_MLP)\n",
    "print(\"Accuracy for Multi Layer Perceptron Classifier: \", acc_scr_MLP)"
   ]
  },
  {
   "cell_type": "markdown",
   "metadata": {
    "colab_type": "text",
    "id": "6141kD7SmaPU"
   },
   "source": [
    "# Predicting songs based on Users Preferences "
   ]
  },
  {
   "cell_type": "code",
   "execution_count": 99,
   "metadata": {
    "colab": {
     "autoexec": {
      "startup": false,
      "wait_interval": 0
     },
     "base_uri": "https://localhost:8080/",
     "height": 238
    },
    "colab_type": "code",
    "executionInfo": {
     "elapsed": 582,
     "status": "error",
     "timestamp": 1530580557077,
     "user": {
      "displayName": "Ayush Manish Agrawal",
      "photoUrl": "//lh3.googleusercontent.com/-8zoT_iC6uow/AAAAAAAAAAI/AAAAAAAAj_g/fYT-VgXQVjM/s50-c-k-no/photo.jpg",
      "userId": "114946232227513734989"
     },
     "user_tz": 300
    },
    "id": "YI7IKV6KBk3c",
    "outputId": "a4e9ae33-6d04-48ca-8aa4-581ac7a3a1f8"
   },
   "outputs": [],
   "source": [
    "num_of_songs = 5\n",
    "track_details = track_dict\n",
    "\n",
    "prediction_kNN = print_Recommendations(predicted_kNN, track_details, num_of_songs)\n",
    "prediction_LR = print_Recommendations(predicted_LR, track_details, num_of_songs)\n",
    "prediction_MLP = print_Recommendations(predicted_MLP, track_details, num_of_songs)\n",
    "data_chart = data_set['genres'].value_counts()\n",
    "pred_chart_kNN = prediction_kNN['genres'].value_counts()\n",
    "pred_chart_LR = prediction_LR['genres'].value_counts()\n",
    "pred_chart_MLP = prediction_MLP['genres'].value_counts()\n"
   ]
  },
  {
   "cell_type": "code",
   "execution_count": 100,
   "metadata": {},
   "outputs": [
    {
     "data": {
      "image/png": "[encoded data removed]",
      "text/plain": [
       "<matplotlib.figure.Figure at 0x1be19d0a7b8>"
      ]
     },
     "metadata": {},
     "output_type": "display_data"
    },
    {
     "data": {
      "image/png": "[encoded data removed]",
      "text/plain": [
       "<matplotlib.figure.Figure at 0x1be1c5b7e48>"
      ]
     },
     "metadata": {},
     "output_type": "display_data"
    },
    {
     "data": {
      "image/png": "[encoded data removed]",
      "text/plain": [
       "<matplotlib.figure.Figure at 0x1be1a16fef0>"
      ]
     },
     "metadata": {},
     "output_type": "display_data"
    }
   ],
   "source": [
    "# Predicted Genre Weights\n",
    "#kNN\n",
    "fig = plt.figure()\n",
    "pred_chart_kNN.plot.barh()\n",
    "plt.xlabel('Count of Genre')\n",
    "plt.ylabel('Genre')\n",
    "plt.tight_layout()\n",
    "\n",
    "#LR\n",
    "fig = plt.figure()\n",
    "pred_chart_LR.plot.barh()\n",
    "plt.xlabel('Count of Genre')\n",
    "plt.ylabel('Genre')\n",
    "plt.tight_layout()\n",
    "\n",
    "#MLP\n",
    "fig = plt.figure()\n",
    "pred_chart_MLP.plot.barh()\n",
    "plt.xlabel('Count of Genre')\n",
    "plt.ylabel('Genre')\n",
    "plt.tight_layout()"
   ]
  },
  {
   "cell_type": "markdown",
   "metadata": {},
   "source": [
    "# Plots"
   ]
  },
  {
   "cell_type": "code",
   "execution_count": 101,
   "metadata": {},
   "outputs": [
    {
     "data": {
      "image/png": "[encoded data removed]",
      "text/plain": [
       "<matplotlib.figure.Figure at 0x1be190d12e8>"
      ]
     },
     "metadata": {},
     "output_type": "display_data"
    },
    {
     "data": {
      "image/png": "[encoded data removed]",
      "text/plain": [
       "<matplotlib.figure.Figure at 0x1be190d19e8>"
      ]
     },
     "metadata": {},
     "output_type": "display_data"
    },
    {
     "data": {
      "image/png": "[encoded data removed]",
      "text/plain": [
       "<matplotlib.figure.Figure at 0x1be1a4db438>"
      ]
     },
     "metadata": {},
     "output_type": "display_data"
    }
   ],
   "source": [
    "#Genre distribution\n",
    "fig = plt.figure()\n",
    "data_chart.plot.barh()\n",
    "plt.xlabel('Count of Genre')\n",
    "plt.ylabel('Genre')\n",
    "plt.tight_layout()\n",
    "\n",
    "# #kNN optimal k plot\n",
    "fig = plt.figure()\n",
    "plt.plot(neighbors, mean_squared_error_kNN )\n",
    "plt.xlabel('Number of neighbors')\n",
    "plt.ylabel('Misclassification Error')\n",
    "plt.tight_layout()\n",
    "\n",
    "# Accuracy Plots\n",
    "fig = plt.figure()\n",
    "plt.plot(['k-NN', 'LogReg', 'MLP'], [acc_scr_kNN*100, acc_scr_LR*100, acc_scr_MLP*100], color='red')\n",
    "plt.xlabel('Model')\n",
    "plt.ylabel('Accuracy')\n",
    "plt.tight_layout()"
   ]
  }
 ],
 "metadata": {
  "accelerator": "GPU",
  "colab": {
   "collapsed_sections": [],
   "default_view": {},
   "name": "song_recommender.ipynb",
   "provenance": [],
   "version": "0.3.2",
   "views": {}
  },
  "kernelspec": {
   "display_name": "Python 3",
   "language": "python",
   "name": "python3"
  },
  "language_info": {
   "codemirror_mode": {
    "name": "ipython",
    "version": 3
   },
   "file_extension": ".py",
   "mimetype": "text/x-python",
   "name": "python",
   "nbconvert_exporter": "python",
   "pygments_lexer": "ipython3",
   "version": "3.6.4"
  }
 },
 "nbformat": 4,
 "nbformat_minor": 1
}
